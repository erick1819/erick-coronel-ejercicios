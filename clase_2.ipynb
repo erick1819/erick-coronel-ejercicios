{
  "nbformat": 4,
  "nbformat_minor": 0,
  "metadata": {
    "colab": {
      "name": "clase 2.ipynb",
      "provenance": [],
      "authorship_tag": "ABX9TyO76HhzBmhuvIgTYXfZKra8",
      "include_colab_link": true
    },
    "kernelspec": {
      "name": "python3",
      "display_name": "Python 3"
    },
    "language_info": {
      "name": "python"
    }
  },
  "cells": [
    {
      "cell_type": "markdown",
      "metadata": {
        "id": "view-in-github",
        "colab_type": "text"
      },
      "source": [
        "<a href=\"https://colab.research.google.com/github/erick1819/erick-coronel-ejercicios/blob/main/clase_2.ipynb\" target=\"_parent\"><img src=\"https://colab.research.google.com/assets/colab-badge.svg\" alt=\"Open In Colab\"/></a>"
      ]
    },
    {
      "cell_type": "markdown",
      "source": [
        "ejercicios while"
      ],
      "metadata": {
        "id": "PuL-aGz6FVwY"
      }
    },
    {
      "cell_type": "code",
      "execution_count": null,
      "metadata": {
        "id": "ScKtI74_DAmF"
      },
      "outputs": [],
      "source": [
        "prompt=\"\\n Ingrese una serie de ingredientes para la pizza:\"\n",
        "prompt+=\"\\n Escribe 'salir' para finalizar \"\n",
        "message=\" \"\n",
        "while message!= \"salir\":\n",
        "  message=input(prompt)\n",
        "  print(f\"{message.title()}, se agregara ese ingrediente asiu pizza\")\n"
      ]
    },
    {
      "cell_type": "code",
      "source": [
        "age=\"\\n Ingrese su edad:\"\n",
        "age+=\"\\n Escribe 'salir' para finalizar \"\n",
        "message=\" \"\n",
        "while message!= \"salir\":\n",
        "  message=(input(age))\n",
        "if age <3:\n",
        "  print(\"el precio del boleto es gratis\")\n",
        "elif age >=3 and age <= 12:\n",
        "  print(\" el prcio del boleto es s/10\")\n",
        "else :\n",
        "  prinT(\" el precio del voleto es s/15\")\n",
        " \n",
        "\n",
        "  \n",
        "  "
      ],
      "metadata": {
        "id": "9cDc78xjIuJI"
      },
      "execution_count": null,
      "outputs": []
    },
    {
      "cell_type": "code",
      "source": [
        "if age <3:\n",
        "  print(\"el precio del boleto es gratis\")\n",
        "elif age >=3 and age <= 12:\n",
        "  print(\" el prcio del boleto es s/10\")\n",
        "else :\n",
        "  prinT(\" el precio del voleto es s/15\")\n",
        "age:\"\\n ingrese su edad\"\n",
        "age+=\"\\n Escribe 'salir' para finalizar \"\n",
        "message=\" \"\n",
        "while message!= \"salir\":\n",
        "  message=(input(age))"
      ],
      "metadata": {
        "id": "uN7CNbKfaIvN"
      },
      "execution_count": null,
      "outputs": []
    },
    {
      "cell_type": "markdown",
      "source": [
        "ejercicios for"
      ],
      "metadata": {
        "id": "rXw-ngMgSuUn"
      }
    },
    {
      "cell_type": "code",
      "source": [
        "pizzas=[\"Americana\",\"hawaiana\",\"peperoni\"]\n",
        "for pizza in pizzas:\n",
        "  print(f\"me gusta la pizza,{pizza.title()}\")\n",
        "\n",
        "print(\"me encanta la pizza!\")\n"
      ],
      "metadata": {
        "colab": {
          "base_uri": "https://localhost:8080/"
        },
        "id": "T9WIpVtXS8Gt",
        "outputId": "2ea015e9-a722-458c-fa35-1e9c8116c076"
      },
      "execution_count": 35,
      "outputs": [
        {
          "output_type": "stream",
          "name": "stdout",
          "text": [
            "me gusta la pizza,Americana\n",
            "me gusta la pizza,Hawaiana\n",
            "me gusta la pizza,Peperoni\n",
            "me encanta la pizza!\n"
          ]
        }
      ]
    },
    {
      "cell_type": "code",
      "source": [
        "animals=[\"perro\",\"gato\",\"conejo\"]\n",
        "for animal in animals:\n",
        "  print(f\"{animal.title()},seria una gran mascota\")\n",
        "print(\"los 3 animales son domesticos\")"
      ],
      "metadata": {
        "colab": {
          "base_uri": "https://localhost:8080/"
        },
        "id": "vc6pw6kvU_rl",
        "outputId": "cacd4b52-de16-4efe-f238-5b87f8628fe5"
      },
      "execution_count": 37,
      "outputs": [
        {
          "output_type": "stream",
          "name": "stdout",
          "text": [
            "Perro,seria una gran mascota\n",
            "Gato,seria una gran mascota\n",
            "Conejo,seria una gran mascota\n",
            "los 3 animales son domesticos\n"
          ]
        }
      ]
    }
  ]
}