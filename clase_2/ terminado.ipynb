{
  "nbformat": 4,
  "nbformat_minor": 0,
  "metadata": {
    "colab": {
      "name": "clase 2.ipynb",
      "provenance": [],
      "authorship_tag": "ABX9TyPfeCXixoSW9lLz33Hsaiua",
      "include_colab_link": true
    },
    "kernelspec": {
      "name": "python3",
      "display_name": "Python 3"
    },
    "language_info": {
      "name": "python"
    }
  },
  "cells": [
    {
      "cell_type": "markdown",
      "metadata": {
        "id": "view-in-github",
        "colab_type": "text"
      },
      "source": [
        "<a href=\"https://colab.research.google.com/github/erick1819/erick-coronel-ejercicios/blob/main/clase_2/%20terminado.ipynb\" target=\"_parent\"><img src=\"https://colab.research.google.com/assets/colab-badge.svg\" alt=\"Open In Colab\"/></a>"
      ]
    },
    {
      "cell_type": "markdown",
      "source": [
        "ejercicios while"
      ],
      "metadata": {
        "id": "PuL-aGz6FVwY"
      }
    },
    {
      "cell_type": "code",
      "execution_count": null,
      "metadata": {
        "id": "ScKtI74_DAmF"
      },
      "outputs": [],
      "source": [
        "prompt=\"\\n Ingrese una serie de ingredientes para la pizza:\"\n",
        "prompt+=\"\\n Escribe 'salir' para finalizar \"\n",
        "message=\" \"\n",
        "while message!= \"salir\":\n",
        "  message=input(prompt)\n",
        "  print(f\"{message.title()}, se agregara ese ingrediente asiu pizza\")\n"
      ]
    },
    {
      "cell_type": "markdown",
      "source": [
        "ejercicios for"
      ],
      "metadata": {
        "id": "rXw-ngMgSuUn"
      }
    },
    {
      "cell_type": "code",
      "source": [
        "pizzas=[\"Americana\",\"hawaiana\",\"peperoni\"]\n",
        "for pizza in pizzas:\n",
        "  print(f\"me gusta la pizza,{pizza.title()}\")\n",
        "\n",
        "print(\"me encanta la pizza!\")\n"
      ],
      "metadata": {
        "colab": {
          "base_uri": "https://localhost:8080/"
        },
        "id": "T9WIpVtXS8Gt",
        "outputId": "2ea015e9-a722-458c-fa35-1e9c8116c076"
      },
      "execution_count": null,
      "outputs": [
        {
          "output_type": "stream",
          "name": "stdout",
          "text": [
            "me gusta la pizza,Americana\n",
            "me gusta la pizza,Hawaiana\n",
            "me gusta la pizza,Peperoni\n",
            "me encanta la pizza!\n"
          ]
        }
      ]
    },
    {
      "cell_type": "code",
      "source": [
        "animals=[\"perro\",\"gato\",\"conejo\"]\n",
        "for animal in animals:\n",
        "  print(f\"{animal.title()},seria una gran mascota\")\n",
        "print(\"los 3 animales son domesticos\")"
      ],
      "metadata": {
        "colab": {
          "base_uri": "https://localhost:8080/"
        },
        "id": "vc6pw6kvU_rl",
        "outputId": "cacd4b52-de16-4efe-f238-5b87f8628fe5"
      },
      "execution_count": null,
      "outputs": [
        {
          "output_type": "stream",
          "name": "stdout",
          "text": [
            "Perro,seria una gran mascota\n",
            "Gato,seria una gran mascota\n",
            "Conejo,seria una gran mascota\n",
            "los 3 animales son domesticos\n"
          ]
        }
      ]
    },
    {
      "cell_type": "markdown",
      "source": [
        "ejercios 3eera clase"
      ],
      "metadata": {
        "id": "FiSCzav8kTpb"
      }
    },
    {
      "cell_type": "markdown",
      "source": [
        "ejercicio 2 de loops while"
      ],
      "metadata": {
        "id": "VSplIYXztrzS"
      }
    },
    {
      "cell_type": "code",
      "source": [
        "def make_albun(albun1, albun2, albun3):\n",
        "   \"\"\" retorna albun y artista\"\"\"\n",
        "   make_albun= f\" {albun1}, {albun2},{albun3} \"\n",
        "   return make_albun.title()\n",
        "albun = make_albun('baladas', 'qumbia','salsa')\n",
        "print(albun)\n"
      ],
      "metadata": {
        "id": "h2bVpUf-t02L",
        "outputId": "5813700d-97a7-4735-ec36-68824b666a36",
        "colab": {
          "base_uri": "https://localhost:8080/"
        }
      },
      "execution_count": null,
      "outputs": [
        {
          "output_type": "stream",
          "name": "stdout",
          "text": [
            " Baladas, Qumbia,Salsa \n"
          ]
        }
      ]
    },
    {
      "cell_type": "markdown",
      "source": [
        "ejercicio 3 de loops while"
      ],
      "metadata": {
        "id": "mgHbVCh0kWtp"
      }
    },
    {
      "cell_type": "code",
      "source": [
        "def make_albun(artista, albun):\n",
        "   \"\"\" retorna albun y artista\"\"\"\n",
        "   make_albun= f\" {artista}, {albun} \"\n",
        "   return make_albun.title()\n",
        "while True:\n",
        "    print(\"\\nPor favor agregue artista y albun :\")\n",
        "    print(\"(enter 'quit' at any time to quit)\")\n",
        "\n",
        "    f_artista = input(\"artista: \")\n",
        "    if f_artista == 'quit':\n",
        "        break\n",
        "\n",
        "    f_albun= input(\"albun: \")\n",
        "    if f_albun == 'quit':\n",
        "        break\n",
        "\n",
        "    make_albun= make_albun(f_artista, f_albun)\n",
        "    print(f\"{make_albun}!\") \n",
        "  "
      ],
      "metadata": {
        "id": "cjiIKbBDkfZ8",
        "outputId": "74e7877a-4c11-47c8-c73b-202b45a33aea",
        "colab": {
          "base_uri": "https://localhost:8080/"
        }
      },
      "execution_count": null,
      "outputs": [
        {
          "name": "stdout",
          "output_type": "stream",
          "text": [
            "\n",
            "Por favor agregue artista y albun :\n",
            "(enter 'quit' at any time to quit)\n",
            "artista: Nick Jam\n",
            "albun: Fenix\n",
            " Nick Jam, Fenix !\n",
            "\n",
            "Por favor agregue artista y albun :\n",
            "(enter 'quit' at any time to quit)\n",
            "artista: quit\n"
          ]
        }
      ]
    },
    {
      "cell_type": "markdown",
      "source": [
        "ejercicios usando listas"
      ],
      "metadata": {
        "id": "pgI6UWNmjEd-"
      }
    },
    {
      "cell_type": "code",
      "source": [
        "def send_messages(message, messages):\n",
        "  while message:\n",
        "        current_design = message.pop()\n",
        "        print(f\"messages: {current_design}\")\n",
        "        messages.append(current_design)\n",
        "def show_messages(messages):\n",
        "  for messages in messages:\n",
        "    print(messages)  \n",
        "show_messages(['mensaje 1','mensaje 2','mensaje 3'])\n",
        "messages=[]\n",
        "send_messages(message, messages)\n",
        "show_messages(messages)"
      ],
      "metadata": {
        "colab": {
          "base_uri": "https://localhost:8080/"
        },
        "id": "kwFD7FwQjHP9",
        "outputId": "850a3d42-6c49-4a43-c2f3-8458c6121b56"
      },
      "execution_count": 53,
      "outputs": [
        {
          "output_type": "stream",
          "name": "stdout",
          "text": [
            "mensaje 1\n",
            "mensaje 2\n",
            "mensaje 3\n"
          ]
        }
      ]
    },
    {
      "cell_type": "code",
      "source": [
        "def print_models(unprinted_designs, completed_models):\n",
        "    \"\"\"\n",
        "    \n",
        "    \"\"\"\n",
        "    while unprinted_designs:\n",
        "        current_design = unprinted_designs.pop()\n",
        "        print(f\"Printing model: {current_design}\")\n",
        "        completed_models.append(current_design)\n",
        "\n",
        "def show_completed_models(completed_models):\n",
        "    \n",
        "    print(\"\\nThe following models have been printed:\")\n",
        "    for completed_model in completed_models:\n",
        "        print(completed_model)\n",
        "unprinted_designs = ['phone case', 'robot pendant', 'dodecahedron']\n",
        "completed_models = []\n",
        "print_models(unprinted_designs, completed_models)\n",
        "show_completed_models(completed_models)"
      ],
      "metadata": {
        "colab": {
          "base_uri": "https://localhost:8080/",
          "height": 0
        },
        "id": "IIiALlP9kKun",
        "outputId": "af047a48-77f9-4010-e325-94d16e6d739f"
      },
      "execution_count": 25,
      "outputs": [
        {
          "output_type": "stream",
          "name": "stdout",
          "text": [
            "Printing model: dodecahedron\n",
            "Printing model: robot pendant\n",
            "Printing model: phone case\n",
            "\n",
            "The following models have been printed:\n",
            "dodecahedron\n",
            "robot pendant\n",
            "phone case\n"
          ]
        }
      ]
    }
  ]
}