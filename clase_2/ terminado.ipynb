{
  "nbformat": 4,
  "nbformat_minor": 0,
  "metadata": {
    "colab": {
      "name": "clase 2.ipynb",
      "provenance": [],
      "authorship_tag": "ABX9TyM36uzfvajQg5xUeECTiZAN",
      "include_colab_link": true
    },
    "kernelspec": {
      "name": "python3",
      "display_name": "Python 3"
    },
    "language_info": {
      "name": "python"
    }
  },
  "cells": [
    {
      "cell_type": "markdown",
      "metadata": {
        "id": "view-in-github",
        "colab_type": "text"
      },
      "source": [
        "<a href=\"https://colab.research.google.com/github/erick1819/erick-coronel-ejercicios/blob/main/clase_2/%20terminado.ipynb\" target=\"_parent\"><img src=\"https://colab.research.google.com/assets/colab-badge.svg\" alt=\"Open In Colab\"/></a>"
      ]
    },
    {
      "cell_type": "markdown",
      "source": [
        "ejercicios while"
      ],
      "metadata": {
        "id": "PuL-aGz6FVwY"
      }
    },
    {
      "cell_type": "code",
      "execution_count": null,
      "metadata": {
        "id": "ScKtI74_DAmF"
      },
      "outputs": [],
      "source": [
        "prompt=\"\\n Ingrese una serie de ingredientes para la pizza:\"\n",
        "prompt+=\"\\n Escribe 'salir' para finalizar \"\n",
        "message=\" \"\n",
        "while message!= \"salir\":\n",
        "  message=input(prompt)\n",
        "  print(f\"{message.title()}, se agregara ese ingrediente asiu pizza\")\n"
      ]
    },
    {
      "cell_type": "markdown",
      "source": [
        "ejercicios for"
      ],
      "metadata": {
        "id": "rXw-ngMgSuUn"
      }
    },
    {
      "cell_type": "code",
      "source": [
        "pizzas=[\"Americana\",\"hawaiana\",\"peperoni\"]\n",
        "for pizza in pizzas:\n",
        "  print(f\"me gusta la pizza,{pizza.title()}\")\n",
        "\n",
        "print(\"me encanta la pizza!\")\n"
      ],
      "metadata": {
        "colab": {
          "base_uri": "https://localhost:8080/"
        },
        "id": "T9WIpVtXS8Gt",
        "outputId": "2ea015e9-a722-458c-fa35-1e9c8116c076"
      },
      "execution_count": null,
      "outputs": [
        {
          "output_type": "stream",
          "name": "stdout",
          "text": [
            "me gusta la pizza,Americana\n",
            "me gusta la pizza,Hawaiana\n",
            "me gusta la pizza,Peperoni\n",
            "me encanta la pizza!\n"
          ]
        }
      ]
    },
    {
      "cell_type": "code",
      "source": [
        "animals=[\"perro\",\"gato\",\"conejo\"]\n",
        "for animal in animals:\n",
        "  print(f\"{animal.title()},seria una gran mascota\")\n",
        "print(\"los 3 animales son domesticos\")"
      ],
      "metadata": {
        "colab": {
          "base_uri": "https://localhost:8080/"
        },
        "id": "vc6pw6kvU_rl",
        "outputId": "cacd4b52-de16-4efe-f238-5b87f8628fe5"
      },
      "execution_count": null,
      "outputs": [
        {
          "output_type": "stream",
          "name": "stdout",
          "text": [
            "Perro,seria una gran mascota\n",
            "Gato,seria una gran mascota\n",
            "Conejo,seria una gran mascota\n",
            "los 3 animales son domesticos\n"
          ]
        }
      ]
    },
    {
      "cell_type": "markdown",
      "source": [
        "ejercios 3eera clase"
      ],
      "metadata": {
        "id": "FiSCzav8kTpb"
      }
    },
    {
      "cell_type": "markdown",
      "source": [
        "ejercicio 2 de loops while"
      ],
      "metadata": {
        "id": "VSplIYXztrzS"
      }
    },
    {
      "cell_type": "code",
      "source": [
        "def make_albun(albun1, albun2, albun3):\n",
        "   \"\"\" retorna albun y artista\"\"\"\n",
        "   make_albun= f\" {albun1}, {albun2},{albun3} \"\n",
        "   return make_albun.title()\n",
        "albun = make_albun('baladas', 'qumbia','salsa')\n",
        "print(albun)\n"
      ],
      "metadata": {
        "id": "h2bVpUf-t02L",
        "outputId": "5813700d-97a7-4735-ec36-68824b666a36",
        "colab": {
          "base_uri": "https://localhost:8080/"
        }
      },
      "execution_count": null,
      "outputs": [
        {
          "output_type": "stream",
          "name": "stdout",
          "text": [
            " Baladas, Qumbia,Salsa \n"
          ]
        }
      ]
    },
    {
      "cell_type": "markdown",
      "source": [
        "ejercicio 3 de loops while"
      ],
      "metadata": {
        "id": "mgHbVCh0kWtp"
      }
    },
    {
      "cell_type": "code",
      "source": [
        "def make_albun(artista, albun):\n",
        "   \"\"\" retorna albun y artista\"\"\"\n",
        "   make_albun= f\" {artista}, {albun} \"\n",
        "   return make_albun.title()\n",
        "while True:\n",
        "    print(\"\\nPor favor agregue artista y albun :\")\n",
        "    print(\"(enter 'quit' at any time to quit)\")\n",
        "\n",
        "    f_artista = input(\"artista: \")\n",
        "    if f_artista == 'quit':\n",
        "        break\n",
        "\n",
        "    f_albun= input(\"albun: \")\n",
        "    if f_albun == 'quit':\n",
        "        break\n",
        "\n",
        "    make_albun= make_albun(f_artista, f_albun)\n",
        "    print(f\"{make_albun}!\") \n",
        "  "
      ],
      "metadata": {
        "id": "cjiIKbBDkfZ8",
        "outputId": "74e7877a-4c11-47c8-c73b-202b45a33aea",
        "colab": {
          "base_uri": "https://localhost:8080/"
        }
      },
      "execution_count": null,
      "outputs": [
        {
          "name": "stdout",
          "output_type": "stream",
          "text": [
            "\n",
            "Por favor agregue artista y albun :\n",
            "(enter 'quit' at any time to quit)\n",
            "artista: Nick Jam\n",
            "albun: Fenix\n",
            " Nick Jam, Fenix !\n",
            "\n",
            "Por favor agregue artista y albun :\n",
            "(enter 'quit' at any time to quit)\n",
            "artista: quit\n"
          ]
        }
      ]
    },
    {
      "cell_type": "markdown",
      "source": [
        "ejercicios usando listas"
      ],
      "metadata": {
        "id": "pgI6UWNmjEd-"
      }
    },
    {
      "cell_type": "code",
      "source": [
        "def send_messages(message, messages):\n",
        "  while message:\n",
        "        current_design = message.pop()\n",
        "        print(f\"messages: {current_design}\")\n",
        "        messages.append(current_design)\n",
        "def show_messages(messages):\n",
        "  print(\"\\nsent_messages:\")\n",
        "  for messages in messages:\n",
        "    print(messages)  \n",
        "message=(['mensaje 1','mensaje 2','mensaje 3'])\n",
        "messages=[]\n",
        "send_messages(message, messages)\n",
        "show_messages(messages)"
      ],
      "metadata": {
        "colab": {
          "base_uri": "https://localhost:8080/"
        },
        "id": "kwFD7FwQjHP9",
        "outputId": "3b8121c8-332d-4a19-fe18-a1429d0912d0"
      },
      "execution_count": 81,
      "outputs": [
        {
          "output_type": "stream",
          "name": "stdout",
          "text": [
            "messages: mensaje 3\n",
            "messages: mensaje 2\n",
            "messages: mensaje 1\n",
            "\n",
            "sent_messages:\n",
            "mensaje 3\n",
            "mensaje 2\n",
            "mensaje 1\n"
          ]
        }
      ]
    },
    {
      "cell_type": "markdown",
      "source": [
        "ejercicio 3"
      ],
      "metadata": {
        "id": "VIMeyUNbxJwX"
      }
    },
    {
      "cell_type": "code",
      "source": [
        "sent_messages=[]"
      ],
      "metadata": {
        "id": "lLIDNdfTxLnO"
      },
      "execution_count": 84,
      "outputs": []
    },
    {
      "cell_type": "markdown",
      "source": [
        "ejercicio uso de argumentos y palabras claves"
      ],
      "metadata": {
        "id": "5LTIkFnGYg-a"
      }
    },
    {
      "cell_type": "markdown",
      "source": [
        "ejercicio 2"
      ],
      "metadata": {
        "id": "OcnwLC8UcIQh"
      }
    },
    {
      "cell_type": "code",
      "source": [
        "def build_profile(first, last, **user_info):\n",
        "    \"\"\"Build a dictionary containing everything we know about a user.\"\"\"\n",
        "    user_info['first_name'] = first\n",
        "    user_info['last_name'] = last\n",
        "    return user_info\n",
        "user_profile = build_profile('Erick', 'Coronel',\n",
        "                             location='Peru',\n",
        "                             field='ingenieria',\n",
        "                             age=22,\n",
        "                             colour='negro')\n",
        "print(user_profile)"
      ],
      "metadata": {
        "id": "GEFKvQAUYjzh",
        "outputId": "802432ce-ddc0-414a-9bc1-64334931488a",
        "colab": {
          "base_uri": "https://localhost:8080/"
        }
      },
      "execution_count": null,
      "outputs": [
        {
          "output_type": "stream",
          "name": "stdout",
          "text": [
            "{'location': 'Peru', 'field': 'ingenieria', 'age': 22, 'colour': 'negro', 'first_name': 'Erick', 'last_name': 'Coronel'}\n"
          ]
        }
      ]
    },
    {
      "cell_type": "markdown",
      "source": [
        "ejercicio 3"
      ],
      "metadata": {
        "id": "wzcC9u4qcK0M"
      }
    },
    {
      "cell_type": "code",
      "source": [
        "def make_car(fabricante, modelo, **user_info):\n",
        "    \"\"\"Build a dictionary containing everything we know about a user.\"\"\"\n",
        "    user_info['fabricante_name'] = fabricante\n",
        "    user_info['modelo_name'] = modelo\n",
        "    return user_info\n",
        "user_car = make_car('Subaru', 'outblack',\n",
        "                             location='japon',\n",
        "                             field='vehiculo',\n",
        "                             age=2022,\n",
        "                             colour='blue')\n",
        "print(user_car)"
      ],
      "metadata": {
        "id": "UrhqRD3nYodp",
        "outputId": "5e996656-288a-408d-83a4-e422e1dc458d",
        "colab": {
          "base_uri": "https://localhost:8080/"
        }
      },
      "execution_count": null,
      "outputs": [
        {
          "output_type": "stream",
          "name": "stdout",
          "text": [
            "{'location': 'japon', 'field': 'vehiculo', 'age': 2022, 'colour': 'blue', 'fabricante_name': 'Subaru', 'modelo_name': 'outblack'}\n"
          ]
        }
      ]
    },
    {
      "cell_type": "markdown",
      "source": [
        "ejercicio 3 de introduccion a clases"
      ],
      "metadata": {
        "id": "5u9yFtllm2oQ"
      }
    },
    {
      "cell_type": "code",
      "source": [
        "class Usuario:\n",
        "    \"\"\"A simple attempt to model a usuario.\"\"\"\n",
        "    def __init__(self, first_name, last_name):\n",
        "        \"\"\"Initialize name and age attributes.\"\"\"\n",
        "        self.first_name = first_name\n",
        "        self.last_name = last_name\n",
        "\n",
        "    def describe_user(self):\n",
        "        \"\"\"\"\"\"\n",
        "        print(\"alto\",\"moreno\")\n",
        "\n",
        "    def gretting_user(self):\n",
        "        \"\"\"\"\"\"\n",
        "        print('Buenas tardes como esta')"
      ],
      "metadata": {
        "id": "wNRa3fD2m9QS"
      },
      "execution_count": null,
      "outputs": []
    },
    {
      "cell_type": "code",
      "source": [
        "my_user = Usuario('Erick', 'Coronel')"
      ],
      "metadata": {
        "id": "9Jl0_gxCq4YY"
      },
      "execution_count": null,
      "outputs": []
    },
    {
      "cell_type": "code",
      "source": [
        "my_user.describe_user()"
      ],
      "metadata": {
        "id": "aiWrJEj7uQGn",
        "outputId": "e9336084-a77f-4f62-ef88-c24edd18afd8",
        "colab": {
          "base_uri": "https://localhost:8080/"
        }
      },
      "execution_count": null,
      "outputs": [
        {
          "output_type": "stream",
          "name": "stdout",
          "text": [
            "alto moreno\n"
          ]
        }
      ]
    },
    {
      "cell_type": "code",
      "source": [
        "my_user.gretting_user()"
      ],
      "metadata": {
        "id": "eNBHwP06rkTQ",
        "outputId": "0aaa0bcc-cbad-44b9-b348-8de985c5e722",
        "colab": {
          "base_uri": "https://localhost:8080/"
        }
      },
      "execution_count": null,
      "outputs": [
        {
          "output_type": "stream",
          "name": "stdout",
          "text": [
            "Buenas tardes como esta\n"
          ]
        }
      ]
    },
    {
      "cell_type": "markdown",
      "source": [
        "clase 4"
      ],
      "metadata": {
        "id": "DwQf9jDTQC_L"
      }
    },
    {
      "cell_type": "code",
      "source": [
        "ejerccicio 2 de lloops con diccionario"
      ],
      "metadata": {
        "id": "5h_2gZ4tQFES"
      },
      "execution_count": null,
      "outputs": []
    },
    {
      "cell_type": "code",
      "source": [
        "user_0 = {\n",
        "    'alessandra': 'carlos',\n",
        "    'tomas': 'federico',\n",
        "    'alondra': 'fernanda',\n",
        "    }\n",
        "for participante, value in user_0.items():\n",
        "    print(f\"\\nparticipante: {participante}\")\n"
      ],
      "metadata": {
        "colab": {
          "base_uri": "https://localhost:8080/"
        },
        "id": "rTvLbcC0QQ_C",
        "outputId": "15e1e5b8-e2c3-4a2f-b99d-51955ed82946"
      },
      "execution_count": 55,
      "outputs": [
        {
          "output_type": "stream",
          "name": "stdout",
          "text": [
            "\n",
            "participante: alessandra\n",
            "\n",
            "participante: tomas\n",
            "\n",
            "participante: alondra\n"
          ]
        }
      ]
    },
    {
      "cell_type": "markdown",
      "source": [
        ""
      ],
      "metadata": {
        "id": "yUFbLU7SuVOv"
      }
    },
    {
      "cell_type": "markdown",
      "source": [
        "ejercccicios una listacon diccionarios"
      ],
      "metadata": {
        "id": "Ff1R7XosbSQx"
      }
    },
    {
      "cell_type": "markdown",
      "source": [
        "ejercicio 3"
      ],
      "metadata": {
        "id": "kT53bjvZiQsZ"
      }
    },
    {
      "cell_type": "code",
      "source": [
        "dict1={'name':'alessandra','place': 'madrid'}\n",
        "dict2={'name':'olenka' ,'place': 'cuzco'}\n",
        "dict3={'name':'patrick','place': 'cancun'}\n",
        "\n",
        "personas =[dict1, dict2, dict3]\n",
        "for x in personas:\n",
        "  print(f\"{x['name']}  {x['place']} es su lugar favorito .\")"
      ],
      "metadata": {
        "colab": {
          "base_uri": "https://localhost:8080/"
        },
        "id": "CaQ-6GUyhETL",
        "outputId": "b1869bce-fdf7-45ae-d818-5a9b3cc0d8da"
      },
      "execution_count": 43,
      "outputs": [
        {
          "output_type": "stream",
          "name": "stdout",
          "text": [
            "alessandra  madrid es su lugar favorito .\n",
            "olenka  cuzco es su lugar favorito .\n",
            "patrick  cancun es su lugar favorito .\n"
          ]
        }
      ]
    },
    {
      "cell_type": "markdown",
      "source": [
        "ejercicio 4"
      ],
      "metadata": {
        "id": "zP0mb5HyiSWj"
      }
    },
    {
      "cell_type": "code",
      "source": [
        "lima={'pais':'peru','poblacion': 10000000}\n",
        "berlin={'pais':'alemania' ,'poblacion': 4000000}\n",
        "pariz={'pais':'francia','poblacion': 2000000}\n",
        "\n",
        "ciudades =[lima, berlin, pariz]\n",
        "for x in ciudades:\n",
        "  print(f\"{x['pais']} tiene aproximadamente  {x['poblacion']} habitantes .\")"
      ],
      "metadata": {
        "colab": {
          "base_uri": "https://localhost:8080/"
        },
        "id": "D8ObHoWyiT05",
        "outputId": "d8cedda6-f9cb-4732-9046-06c264be6b67"
      },
      "execution_count": 45,
      "outputs": [
        {
          "output_type": "stream",
          "name": "stdout",
          "text": [
            "peru tiene aproximadamente  10000000 habitantes .\n",
            "alemania tiene aproximadamente  4000000 habitantes .\n",
            "francia tiene aproximadamente  2000000 habitantes .\n"
          ]
        }
      ]
    }
  ]
}